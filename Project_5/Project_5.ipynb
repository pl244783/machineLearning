{
 "cells": [
  {
   "cell_type": "code",
   "execution_count": null,
   "metadata": {
    "_cell_guid": "b1076dfc-b9ad-4769-8c92-a6c4dae69d19",
    "_uuid": "8f2839f25d086af736a60e9eeb907d3b93b6e0e5"
   },
   "outputs": [],
   "source": [
    "# This Python 3 environment comes with many helpful analytics libraries installed\n",
    "# It is defined by the kaggle/python Docker image: https://github.com/kaggle/docker-python\n",
    "# For example, here's several helpful packages to load\n",
    "\n",
    "import numpy as np # linear algebra\n",
    "import pandas as pd # data processing, CSV file I/O (e.g. pd.read_csv)\n",
    "\n",
    "# Input data files are available in the read-only \"../input/\" directory\n",
    "# For example, running this (by clicking run or pressing Shift+Enter) will list all files under the input directory\n",
    "\n",
    "import os\n",
    "for dirname, _, filenames in os.walk('./'):\n",
    "    for filename in filenames:\n",
    "        print(os.path.join(dirname, filename))\n",
    "\n",
    "# You can write up to 20GB to the current directory (/kaggle/working/) that gets preserved as output when you create a version using \"Save & Run All\" \n",
    "# You can also write temporary files to /kaggle/temp/, but they won't be saved outside of the current session"
   ]
  },
  {
   "cell_type": "markdown",
   "metadata": {
    "editable": true,
    "slideshow": {
     "slide_type": ""
    },
    "tags": []
   },
   "source": [
    "# 1. Frame the problem\n",
    "Using the customer description, Define the problem your trying to solve in your own words (remember this is not technial but must be specific so the customer understands the project(\n",
    "\n",
    "Given a prebuilt Tetris simulator built using Pygame, design a machine learning model, namely a genetic learning model that will play the game at a reasonable pace for a minimum of 60 seconds. "
   ]
  },
  {
   "cell_type": "markdown",
   "metadata": {
    "editable": true,
    "slideshow": {
     "slide_type": ""
    },
    "tags": []
   },
   "source": [
    "# 2. Get the Data \n",
    "Define how you recieved the data (provided, gathered..)\n",
    "\n",
    "There is no initial data. Any data gathered is gathered during training where the model is told to improve after being told to play the game and learning from there. This is because the way the model is being trained is through constant \"breeding\" where the best of a generation are allowed to survive and breed until the next game while those that aren't die. The initial model is extremely unintelligent as it has no input data and hasn't learned anything from playing the game.  "
   ]
  },
  {
   "cell_type": "markdown",
   "metadata": {
    "editable": true,
    "slideshow": {
     "slide_type": ""
    },
    "tags": []
   },
   "source": [
    "# 3. Explore the Data\n",
    "Gain insights into the data you have from step 2, making sure to identify any bias\n",
    "\n",
    "There is 7 distinct tetrominos, where single set of free tetrominoes or one-sided tetrominoes cannot fit in a rectangle and  any odd number of sets for either type cannot fit in a rectangle\n",
    "\n",
    "Just by looking at it, Genetic seems to be quite poor, while greedy is quite a good model. MCTS also seems quite lacking, most likely as these are framesworks for a model, and not actual models. \n"
   ]
  },
  {
   "cell_type": "code",
   "execution_count": null,
   "metadata": {},
   "outputs": [],
   "source": [
    "!python libraries/main.py"
   ]
  },
  {
   "cell_type": "code",
   "execution_count": 1,
   "metadata": {},
   "outputs": [
    {
     "name": "stdout",
     "output_type": "stream",
     "text": [
      "pygame 2.5.2 (SDL 2.28.2, Python 3.10.10)\n",
      "Hello from the pygame community. https://www.pygame.org/contribute.html\n",
      "0\n",
      "14 0\n",
      "1\n",
      "8 0\n",
      "Traceback (most recent call last):\n",
      "  File \"/home/jupyter-michaelw/Project_5/libraries/main.py\", line 16, in <module>\n",
      "    main()\n",
      "  File \"/home/jupyter-michaelw/Project_5/libraries/main.py\", line 11, in main\n",
      "    g.run_no_visual()\n",
      "  File \"/home/jupyter-michaelw/Project_5/libraries/game.py\", line 41, in run_no_visual\n",
      "    x, piece = self.ai.get_best_move(self.board, self.curr_piece)\n",
      "  File \"/home/jupyter-michaelw/Project_5/libraries/AI/genetic.py\", line 82, in get_best_move\n",
      "    board_copy[y + pos[1]][x + pos[0]] = True\n",
      "IndexError: list index out of range\n"
     ]
    }
   ],
   "source": [
    "!python libraries/main.py genetic"
   ]
  },
  {
   "cell_type": "code",
   "execution_count": 2,
   "metadata": {},
   "outputs": [
    {
     "name": "stdout",
     "output_type": "stream",
     "text": [
      "pygame 2.5.2 (SDL 2.28.2, Python 3.10.10)\n",
      "Hello from the pygame community. https://www.pygame.org/contribute.html\n",
      "0\n",
      "1091 439\n",
      "1\n",
      "730 293\n",
      "731 293\n",
      "AI\n",
      "Traceback (most recent call last):\n",
      "  File \"/home/jupyter-michaelw/Project_5/libraries/main.py\", line 16, in <module>\n",
      "    main()\n",
      "  File \"/home/jupyter-michaelw/Project_5/libraries/main.py\", line 12, in main\n",
      "    g.run()\n",
      "  File \"/home/jupyter-michaelw/Project_5/libraries/game.py\", line 72, in run\n",
      "    x, piece = self.ai.get_best_move(self.board, self.curr_piece)\n",
      "  File \"/home/jupyter-michaelw/Project_5/libraries/AI/greedy.py\", line 32, in get_best_move\n",
      "    c = self.cost(board.board, x, y, piece)\n",
      "  File \"/home/jupyter-michaelw/Project_5/libraries/AI/greedy.py\", line 97, in cost\n",
      "    board_copy[y + pos[1]][x + pos[0]] = True\n",
      "IndexError: list index out of range\n"
     ]
    }
   ],
   "source": [
    "!python libraries/main.py greedy"
   ]
  },
  {
   "cell_type": "code",
   "execution_count": 1,
   "metadata": {},
   "outputs": [
    {
     "name": "stdout",
     "output_type": "stream",
     "text": [
      "pygame 2.5.2 (SDL 2.28.2, Python 3.10.10)\n",
      "Hello from the pygame community. https://www.pygame.org/contribute.html\n",
      "0\n",
      "9 0\n",
      "1\n",
      "8 0\n",
      "9 0\n",
      "AI\n",
      "Pieces dropped: 10\n",
      "Rows cleared: 0\n"
     ]
    }
   ],
   "source": [
    "!python libraries/main.py mcts"
   ]
  },
  {
   "cell_type": "markdown",
   "metadata": {},
   "source": [
    "# 4.Prepare the Data\n",
    "\n",
    "No data transformations, everything that needs to be done to the input data has already been prepared by Mr. Rivero in game.py\n"
   ]
  },
  {
   "cell_type": "markdown",
   "metadata": {},
   "source": [
    "# 5. Model the data\n",
    "Using selected ML models, experment with your choices and describe your findings. Finish by selecting a Model to continue with\n",
    "\n",
    "\n",
    "I made a basic neural network, as it is probably the one way to properly predict an output for a given input file. I did two methods, one using a prebuilt model using SKlean and MLPClassifier, and one by trying to build one with keras. Both are extremely bad, which is likely due to an issue with the data itself. I will finetune it just to make sure if it can be salvaged. "
   ]
  },
  {
   "cell_type": "code",
   "execution_count": null,
   "metadata": {
    "scrolled": true
   },
   "outputs": [
    {
     "name": "stdout",
     "output_type": "stream",
     "text": [
      "pygame 2.5.2 (SDL 2.28.2, Python 3.10.10)\n",
      "Hello from the pygame community. https://www.pygame.org/contribute.html\n",
      "["
     ]
    }
   ],
   "source": [
    "from versionHistory.v1 import v1\n",
    "from multiprocessing import Pool\n",
    "from libraries.game import Game\n",
    "import random\n",
    "import numpy as np\n",
    "import joblib\n",
    "\n",
    "random.seed()\n",
    "\n",
    "#population size\n",
    "populationSize = 1000\n",
    "#amount of generations\n",
    "genLimit = 10000\n",
    "population = [v1() for _ in range(populationSize)]\n",
    "\n",
    "def runGame(i):\n",
    "    game = Game(mode=\"tetrisAI\", agent=i)\n",
    "    dropped, cleared = game.run_no_visual()\n",
    "    #print(f'Dropped: {dropped}, Cleared: {cleared}')\n",
    "    return cleared\n",
    "\n",
    "def breed(parent1, parent2):\n",
    "    if parent1 == None or parent2 == None:\n",
    "        return None\n",
    "    max_len = max(len(parent1.genotype), len(parent2.genotype))\n",
    "    \n",
    "    # Pad the genotypes to the maximum length\n",
    "    padded_parent1 = np.pad(parent1.genotype, (0, max_len - len(parent1.genotype)))\n",
    "    padded_parent2 = np.pad(parent2.genotype, (0, max_len - len(parent2.genotype)))\n",
    "    \n",
    "    # Ensure crossover_point is within the bounds of the shorter genotype\n",
    "    crossover_point = random.randint(0, max_len)\n",
    "    \n",
    "    # Perform crossover with padded genotypes\n",
    "    child_genotype = np.concatenate((padded_parent1[:crossover_point], padded_parent2[crossover_point:]))\n",
    "    \n",
    "    child = v1(genotype=child_genotype)\n",
    "    return child\n",
    "\n",
    "valVal, best = 5, 0\n",
    "print('[', end='')\n",
    "with open(f'v1/{valVal}/README.txt', 'w') as f:\n",
    "    pass\n",
    "    \n",
    "with Pool(30) as pool:\n",
    "    for gen in range(genLimit):\n",
    "        scoreList = pool.map(runGame, population)\n",
    "        listedScore = [(score, i) for i, score in enumerate(scoreList)]\n",
    "        sortedScores = sorted(listedScore, key=lambda x: x[0], reverse=True)\n",
    "\n",
    "        liversList = [i for _, i in sortedScores[:int(0.3*populationSize)]]\n",
    "        #print(liversList)\n",
    "        livers = [population[i] for i in liversList]\n",
    "\n",
    "        genBest, childID = sortedScores[0][0], sortedScores[0][1]\n",
    "\n",
    "        if genBest > best:\n",
    "            best = genBest\n",
    "            genNum = gen+1\n",
    "            bestChildID = childID\n",
    "            currentBest = population[int(childID)]\n",
    "            currentBestScore = genBest\n",
    "\n",
    "        if (gen+1)%1 == 0:\n",
    "            print('.', end='')\n",
    "            best = 0\n",
    "            spacer = str(genLimit)[len(str(genNum+1)):]\n",
    "            joblib.dump(currentBest, f'v1/{valVal}/v1g{spacer}{genNum}.joblib')\n",
    "            with open(f'v1/{valVal}/README.txt', 'a') as f:\n",
    "                f.write(f'Gen: {genNum}, Child {bestChildID} achieved score {currentBestScore}\\n')\n",
    "        if (gen+1)%1000 == 0:\n",
    "            print(f']\\nGen: {gen+1}, Child {childID} achieved score {genBest}\\n[')\n",
    "            #joblib.dump(population[int(childID)], f'v1/v1m{gen+1}.joblib')\n",
    "            \n",
    "        \n",
    "        newPopulation = []\n",
    "        _ = 0\n",
    "        while _ < populationSize:\n",
    "            parent1 = random.choice(livers)\n",
    "            parent2 = random.choice(livers)\n",
    "            child = breed(parent1, parent2)\n",
    "            if child is not None:\n",
    "                newPopulation.append(child)\n",
    "                _ += 1\n",
    "\n",
    "        population = newPopulation\n",
    "\n",
    "    import joblib\n",
    "    #joblib.dump(population[int(childID)], 'v1/v1m1.joblib')\n",
    "\n",
    "print('Done')"
   ]
  },
  {
   "cell_type": "markdown",
   "metadata": {
    "editable": true,
    "slideshow": {
     "slide_type": ""
    },
    "tags": []
   },
   "source": [
    "# 6. Fine Tune the Model\n",
    "Given that this model is a genetic learning algorithmn, there's not much that can be done in order to properly train it. Thus, I can only cycle through my trained models and find the best model from there.\n"
   ]
  },
  {
   "cell_type": "code",
   "execution_count": null,
   "metadata": {},
   "outputs": [
    {
     "name": "stdout",
     "output_type": "stream",
     "text": [
      "Starting\n"
     ]
    }
   ],
   "source": [
    "from versionHistory.v1 import v1\n",
    "from multiprocessing import Pool\n",
    "from libraries.game import Game\n",
    "import random\n",
    "import numpy as np\n",
    "import joblib\n",
    "\n",
    "with open('xdd.txt', 'w') as f:\n",
    "    pass\n",
    "def runGame(n):\n",
    "    i = joblib.load(f'v1/5/v1g000{n}.joblib')\n",
    "    game = Game(mode=\"tetrisAI\", agent=i)\n",
    "    dropped, cleared = game.run_no_visual()\n",
    "    with open('xdd.txt', 'a') as f:\n",
    "        f.write(f'{n}: Dropped: {dropped}, Cleared: {cleared}\\n')\n",
    "    \n",
    "\n",
    "pop = [n for n in range(10, 32)]\n",
    "\n",
    "with Pool(30) as pool:\n",
    "    print('Starting')\n",
    "    xdd = pool.map(runGame, pop)\n",
    "    print('Done')\n",
    "#runGame()"
   ]
  },
  {
   "cell_type": "markdown",
   "metadata": {},
   "source": [
    "# 7. Present\n",
    "In a customer faceing Document provide summery of finding and detail approach taken\n",
    "\n",
    "\n",
    "1. Upon Recieving the Data, it was immediately inspected by running the game program and the various algorithmns that were given to me.\n",
    "2. The program was then trained using a population of 1000 over the approximation of 30 generations. "
   ]
  },
  {
   "cell_type": "markdown",
   "metadata": {},
   "source": [
    "# 8. Launch the Model System\n",
    "Define your production run code, This should be self susficent and require only your model pramaters \n",
    "\n",
    "See deployment.py (copied here anyways)"
   ]
  },
  {
   "cell_type": "code",
   "execution_count": null,
   "metadata": {
    "editable": true,
    "slideshow": {
     "slide_type": ""
    },
    "tags": []
   },
   "outputs": [],
   "source": [
    "from versionHistory.v1 import v1\n",
    "from multiprocessing import Pool\n",
    "from libraries.game import Game\n",
    "import random\n",
    "import numpy as np\n",
    "import joblib\n",
    "\n",
    "#11 is the best\n",
    "def runGame():\n",
    "    i = joblib.load('v1/5/v1g00011.joblib')\n",
    "    game = Game(mode=\"tetrisAI\", agent=i)\n",
    "    dropped, cleared = game.run()\n",
    "    #print(f'Dropped: {dropped}, Cleared: {cleared}')\n",
    "\n",
    "runGame()"
   ]
  },
  {
   "cell_type": "markdown",
   "metadata": {},
   "source": []
  }
 ],
 "metadata": {
  "kernelspec": {
   "display_name": "Python 3 (ipykernel)",
   "language": "python",
   "name": "python3"
  },
  "language_info": {
   "codemirror_mode": {
    "name": "ipython",
    "version": 3
   },
   "file_extension": ".py",
   "mimetype": "text/x-python",
   "name": "python",
   "nbconvert_exporter": "python",
   "pygments_lexer": "ipython3",
   "version": "3.10.10"
  }
 },
 "nbformat": 4,
 "nbformat_minor": 4
}
